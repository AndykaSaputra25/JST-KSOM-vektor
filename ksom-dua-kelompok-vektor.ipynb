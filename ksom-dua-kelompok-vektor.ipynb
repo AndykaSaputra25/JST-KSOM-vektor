{
 "cells": [
  {
   "cell_type": "code",
   "execution_count": 1,
   "metadata": {},
   "outputs": [],
   "source": [
    "import numpy as np"
   ]
  },
  {
   "cell_type": "code",
   "execution_count": 2,
   "metadata": {},
   "outputs": [],
   "source": [
    "vektor = np.array([\n",
    "    [1, 1, 1, 0],\n",
    "    [0, 0, 0, 1],\n",
    "    [1, 0, 0, 0],\n",
    "    [0, 0, 1, 1]\n",
    "])"
   ]
  },
  {
   "cell_type": "code",
   "execution_count": 3,
   "metadata": {},
   "outputs": [],
   "source": [
    "cv = np.array([\n",
    "    [0.9, 0.7, 0.1, 0.2],\n",
    "    [0.2, 0.2, 0.7, 0.9]\n",
    "])"
   ]
  },
  {
   "cell_type": "code",
   "execution_count": 4,
   "metadata": {},
   "outputs": [],
   "source": [
    "def naice(winCV, CV):\n",
    "    std=2\n",
    "    temp = np.linalg.norm(winCV-CV)\n",
    "    result = np.exp(-1*temp/(2*std**2))\n",
    "    return result"
   ]
  },
  {
   "cell_type": "code",
   "execution_count": 5,
   "metadata": {},
   "outputs": [],
   "source": [
    "epoch = 1\n",
    "# Proses Pembelajaran\n",
    "rate = 0.5\n",
    "for k in range(epoch):\n",
    "    for i in range(len(vektor)):\n",
    "        tempDist = np.zeros(len(cv))\n",
    "        for j in range(len(cv)):\n",
    "            tempDist[j] = np.linalg.norm(vektor[i] - cv[j])\n",
    "            minInd = np.argmin(tempDist)"
   ]
  },
  {
   "cell_type": "code",
   "execution_count": 6,
   "metadata": {},
   "outputs": [
    {
     "name": "stdout",
     "output_type": "stream",
     "text": [
      "[[1.32708758 1.12708758 0.52708758 0.62708758]\n",
      " [0.2        0.2        0.7        0.9       ]]\n",
      "[[1.32708758 1.12708758 0.52708758 0.62708758]\n",
      " [0.7        0.7        1.2        1.4       ]]\n"
     ]
    }
   ],
   "source": [
    "# Update bobot\n",
    "for j in range(len(cv)):\n",
    "    cv[j] = cv[j]+rate * naice(cv[minInd], cv[j])\n",
    "    print(cv)"
   ]
  },
  {
   "cell_type": "code",
   "execution_count": 7,
   "metadata": {},
   "outputs": [
    {
     "name": "stdout",
     "output_type": "stream",
     "text": [
      "1\n",
      "0\n",
      "1\n",
      "1\n",
      "1\n",
      "0\n",
      "1\n",
      "1\n"
     ]
    }
   ],
   "source": [
    "# Testing-Clustering\n",
    "for i in range(len(vektor)):\n",
    "    tempDist = np.zeros(len(cv))\n",
    "    for j in range(len(cv)):\n",
    "        tempDist[j] = np.linalg.norm(vektor[i] - cv[j])\n",
    "        minInd = np.argmin(tempDist)\n",
    "        print(minInd)"
   ]
  },
  {
   "cell_type": "code",
   "execution_count": null,
   "metadata": {},
   "outputs": [],
   "source": []
  }
 ],
 "metadata": {
  "kernelspec": {
   "display_name": "Python 3",
   "language": "python",
   "name": "python3"
  },
  "language_info": {
   "codemirror_mode": {
    "name": "ipython",
    "version": 3
   },
   "file_extension": ".py",
   "mimetype": "text/x-python",
   "name": "python",
   "nbconvert_exporter": "python",
   "pygments_lexer": "ipython3",
   "version": "3.8.5"
  }
 },
 "nbformat": 4,
 "nbformat_minor": 4
}
